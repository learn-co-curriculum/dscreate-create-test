{
 "cells": [
  {
   "cell_type": "markdown",
   "id": "d53df81c",
   "metadata": {
    "index": 0,
    "solution": false
   },
   "source": [
    "# Fake Lesson"
   ]
  },
  {
   "cell_type": "markdown",
   "id": "7ec4f398",
   "metadata": {
    "index": 1,
    "solution": false
   },
   "source": [
    "Lorem ipsum dolor sit amet, consectetur adipiscing elit, sed do eiusmod tempor incididunt ut labore et dolore magna aliqua. Ut enim ad minim veniam, quis nostrud exercitation ullamco laboris nisi ut aliquip ex ea commodo consequat. Duis aute irure dolor in reprehenderit in voluptate velit esse cillum dolore eu fugiat nulla pariatur. Excepteur sint occaecat cupidatat non proident, sunt in culpa qui officia deserunt mollit anim id est laborum."
   ]
  },
  {
   "cell_type": "code",
   "execution_count": null,
   "id": "e37a6670",
   "metadata": {
    "index": 2,
    "solution": false
   },
   "outputs": [],
   "source": [
    "# Your code here"
   ]
  },
  {
   "cell_type": "markdown",
   "id": "c985dbca",
   "metadata": {
    "index": 4,
    "solution": false
   },
   "source": [
    "Varius sit amet mattis vulputate enim nulla aliquet porttitor lacus. Et magnis dis parturient montes nascetur ridiculus. Vitae purus faucibus ornare suspendisse sed. Vitae purus faucibus ornare suspendisse sed nisi lacus sed viverra. Vitae aliquet nec ullamcorper sit amet risus nullam. Sed tempus urna et pharetra pharetra massa massa. Eget dolor morbi non arcu risus quis varius quam. Metus vulputate eu scelerisque felis imperdiet proin fermentum leo vel. Ut consequat semper viverra nam. Massa enim nec dui nunc. Leo in vitae turpis massa. Viverra justo nec ultrices dui sapien eget mi proin sed. Odio morbi quis commodo odio aenean sed adipiscing diam donec. Blandit aliquam etiam erat velit."
   ]
  },
  {
   "cell_type": "code",
   "execution_count": null,
   "id": "906713c6",
   "metadata": {
    "index": 5,
    "solution": false
   },
   "outputs": [],
   "source": [
    "# Your code here"
   ]
  },
  {
   "cell_type": "markdown",
   "id": "778a1bf7",
   "metadata": {
    "index": 7,
    "solution": false
   },
   "source": [
    "### Header 3"
   ]
  },
  {
   "cell_type": "markdown",
   "id": "21e31b52",
   "metadata": {
    "index": 8,
    "solution": false
   },
   "source": [
    "Donec pretium vulputate sapien nec sagittis aliquam malesuada. Tristique risus nec feugiat in fermentum. Tincidunt ornare massa eget egestas purus viverra. At varius vel pharetra vel turpis nunc. Pulvinar sapien et ligula ullamcorper malesuada. Vitae tempus quam pellentesque nec nam. Id volutpat lacus laoreet non curabitur gravida arcu. Sem viverra aliquet eget sit amet tellus cras adipiscing. Duis at consectetur lorem donec massa sapien. Fermentum posuere urna nec tincidunt praesent semper. Lacus luctus accumsan tortor posuere ac."
   ]
  },
  {
   "cell_type": "code",
   "execution_count": null,
   "id": "4c75a918",
   "metadata": {
    "index": 9,
    "solution": false
   },
   "outputs": [],
   "source": [
    "# Replace None with your code\n",
    "\n",
    "def plot_bar():\n",
    "    # Create x array\n",
    "    None\n",
    "    \n",
    "    # Create y array\n",
    "    None\n",
    "    \n",
    "    # Plot bar plot\n",
    "    None"
   ]
  },
  {
   "cell_type": "markdown",
   "id": "fe27be93",
   "metadata": {
    "index": 11,
    "solution": false
   },
   "source": [
    "Run your code"
   ]
  },
  {
   "cell_type": "code",
   "execution_count": null,
   "id": "2dc1143e",
   "metadata": {
    "index": 12,
    "solution": false
   },
   "outputs": [],
   "source": [
    "plot_bar()"
   ]
  }
 ],
 "metadata": {
  "kernelspec": {
   "display_name": "Python 3 (ipykernel)",
   "language": "python",
   "name": "python3"
  },
  "language_info": {
   "codemirror_mode": {
    "name": "ipython",
    "version": 3
   },
   "file_extension": ".py",
   "mimetype": "text/x-python",
   "name": "python",
   "nbconvert_exporter": "python",
   "pygments_lexer": "ipython3",
   "version": "3.9.5"
  }
 },
 "nbformat": 4,
 "nbformat_minor": 5
}
