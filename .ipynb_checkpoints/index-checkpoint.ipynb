{
 "cells": [
  {
   "cell_type": "markdown",
   "id": "d53df81c",
   "metadata": {
    "index": 0,
    "solution": false
   },
   "source": [
    "# Fake Lesson"
   ]
  },
  {
   "cell_type": "markdown",
   "id": "7ec4f398",
   "metadata": {
    "index": 1,
    "solution": false
   },
   "source": [
    "Lorem ipsum dolor sit amet, consectetur adipiscing elit, sed do eiusmod tempor incididunt ut labore et dolore magna aliqua. Ut enim ad minim veniam, quis nostrud exercitation ullamco laboris nisi ut aliquip ex ea commodo consequat. Duis aute irure dolor in reprehenderit in voluptate velit esse cillum CHANGE eu fugiat nulla pariatur. Excepteur sint occaecat cupidatat non proident, sunt in culpa qui officia deserunt mollit anim id est laborum."
   ]
  },
  {
   "cell_type": "code",
   "execution_count": 1,
   "id": "e37a6670",
   "metadata": {
    "index": 2,
    "solution": false
   },
   "outputs": [],
   "source": [
    "# Your code here"
   ]
  },
  {
   "cell_type": "code",
   "execution_count": 2,
   "id": "3b01c2b6",
   "metadata": {
    "execution": {
     "iopub.execute_input": "2021-10-13T02:32:35.629367Z",
     "iopub.status.busy": "2021-10-13T02:32:35.628672Z",
     "iopub.status.idle": "2021-10-13T02:32:35.632342Z",
     "shell.execute_reply": "2021-10-13T02:32:35.632809Z"
    },
    "index": 3,
    "solution": true
   },
   "outputs": [],
   "source": [
    "#==SOLUTION==\n",
    "answer = 2 + 2"
   ]
  },
  {
   "cell_type": "markdown",
   "id": "c985dbca",
   "metadata": {
    "index": 4,
    "solution": false
   },
   "source": [
    "Varius sit amet mattis vulputate enim nulla aliquet porttitor lacus. Et magnis dis parturient montes nascetur ridiculus. Vitae purus faucibus ornare suspendisse sed. Vitae purus faucibus ornare suspendisse sed nisi lacus sed viverra. Vitae aliquet nec ullamcorper sit amet risus nullam. Sed tempus urna et pharetra pharetra massa massa. Eget dolor morbi non arcu risus quis varius quam. Metus vulputate eu scelerisque felis imperdiet proin fermentum leo vel. Ut consequat semper viverra nam. Massa enim nec dui nunc. Leo in vitae turpis massa. Viverra justo nec ultrices dui sapien eget mi proin sed. Odio morbi quis commodo odio aenean sed adipiscing diam donec. Blandit aliquam etiam erat velit."
   ]
  },
  {
   "cell_type": "code",
   "execution_count": 3,
   "id": "906713c6",
   "metadata": {
    "index": 5,
    "solution": false
   },
   "outputs": [],
   "source": [
    "# Your code here"
   ]
  },
  {
   "cell_type": "code",
   "execution_count": 4,
   "id": "c3379be1",
   "metadata": {
    "execution": {
     "iopub.execute_input": "2021-10-13T02:32:35.636936Z",
     "iopub.status.busy": "2021-10-13T02:32:35.636341Z",
     "iopub.status.idle": "2021-10-13T02:32:35.976392Z",
     "shell.execute_reply": "2021-10-13T02:32:35.976726Z"
    },
    "index": 6,
    "solution": true
   },
   "outputs": [
    {
     "data": {
      "text/plain": [
       "[<matplotlib.lines.Line2D at 0x14b44a850>]"
      ]
     },
     "execution_count": 4,
     "metadata": {},
     "output_type": "execute_result"
    },
    {
     "data": {
      "image/png": "[encoded data removed]",
      "text/plain": [
       "<Figure size 432x288 with 1 Axes>"
      ]
     },
     "metadata": {
      "needs_background": "light"
     },
     "output_type": "display_data"
    }
   ],
   "source": [
    "#==SOLUTION==\n",
    "import matplotlib.pyplot as plt\n",
    "plt.plot([1,2,3], [1,2,3])"
   ]
  },
  {
   "cell_type": "markdown",
   "id": "632f0869",
   "metadata": {},
   "source": [
    "### New Question"
   ]
  },
  {
   "cell_type": "code",
   "execution_count": null,
   "id": "a37ee630",
   "metadata": {},
   "outputs": [],
   "source": [
    "# Your code here"
   ]
  },
  {
   "cell_type": "code",
   "execution_count": 2,
   "id": "8ce77cc5",
   "metadata": {},
   "outputs": [
    {
     "name": "stdout",
     "output_type": "stream",
     "text": [
      "solution\n"
     ]
    }
   ],
   "source": [
    "#__SOLUTION__\n",
    "print('solution')"
   ]
  },
  {
   "cell_type": "markdown",
   "id": "778a1bf7",
   "metadata": {
    "index": 7,
    "solution": false
   },
   "source": [
    "### Header 3"
   ]
  },
  {
   "cell_type": "markdown",
   "id": "21e31b52",
   "metadata": {
    "index": 8,
    "solution": false
   },
   "source": [
    "Donec pretium vulputate sapien nec sagittis aliquam malesuada. Tristique risus nec feugiat in fermentum. Tincidunt ornare massa eget egestas purus viverra. At varius vel pharetra vel turpis nunc. Pulvinar sapien et ligula ullamcorper malesuada. Vitae tempus quam pellentesque nec nam. Id volutpat lacus laoreet non curabitur gravida arcu. Sem viverra aliquet eget sit amet tellus cras adipiscing. Duis at consectetur lorem donec massa sapien. Fermentum posuere urna nec tincidunt praesent semper. Lacus luctus accumsan tortor posuere ac."
   ]
  },
  {
   "cell_type": "code",
   "execution_count": 5,
   "id": "4c75a918",
   "metadata": {
    "index": 9,
    "solution": false
   },
   "outputs": [],
   "source": [
    "# Replace None with your code\n",
    "\n",
    "def plot_bar():\n",
    "    # Create x array\n",
    "    None\n",
    "    \n",
    "    # Create y array\n",
    "    None\n",
    "    \n",
    "    # Plot bar plot\n",
    "    None"
   ]
  },
  {
   "cell_type": "code",
   "execution_count": 6,
   "id": "27f23bdf",
   "metadata": {
    "execution": {
     "iopub.execute_input": "2021-10-13T02:32:35.980498Z",
     "iopub.status.busy": "2021-10-13T02:32:35.980020Z",
     "iopub.status.idle": "2021-10-13T02:32:35.982028Z",
     "shell.execute_reply": "2021-10-13T02:32:35.982357Z"
    },
    "index": 10,
    "solution": true
   },
   "outputs": [],
   "source": [
    "#==SOLUTION==\n",
    "def plot_bar():\n",
    "    # Create x array\n",
    "    x = ['One', 'Two', 'Three']\n",
    "    \n",
    "    # Create y array\n",
    "    y = [1,2,4]\n",
    "    \n",
    "    # Plot bar plot\n",
    "    plt.bar(x, y)"
   ]
  },
  {
   "cell_type": "markdown",
   "id": "87fb03bb",
   "metadata": {},
   "source": [
    "### Question 4"
   ]
  },
  {
   "cell_type": "markdown",
   "id": "61fe944c",
   "metadata": {},
   "source": [
    "==SOLUTION==\n",
    "\n",
    "THIS IS AN ANSWER"
   ]
  },
  {
   "cell_type": "markdown",
   "id": "fe27be93",
   "metadata": {
    "index": 11,
    "solution": false
   },
   "source": [
    "Run your code"
   ]
  },
  {
   "cell_type": "code",
   "execution_count": 7,
   "id": "2dc1143e",
   "metadata": {
    "index": 12,
    "solution": false
   },
   "outputs": [
    {
     "data": {
      "image/png": "[encoded data removed]",
      "text/plain": [
       "<Figure size 432x288 with 1 Axes>"
      ]
     },
     "metadata": {
      "needs_background": "light"
     },
     "output_type": "display_data"
    }
   ],
   "source": [
    "plot_bar()"
   ]
  },
  {
   "cell_type": "code",
   "execution_count": 8,
   "id": "f9507503",
   "metadata": {
    "execution": {
     "iopub.execute_input": "2021-10-13T02:32:36.012091Z",
     "iopub.status.busy": "2021-10-13T02:32:36.011457Z",
     "iopub.status.idle": "2021-10-13T02:32:36.053071Z",
     "shell.execute_reply": "2021-10-13T02:32:36.053401Z"
    },
    "index": 13,
    "solution": true
   },
   "outputs": [
    {
     "data": {
      "image/png": "[encoded data removed]",
      "text/plain": [
       "<Figure size 432x288 with 1 Axes>"
      ]
     },
     "metadata": {
      "needs_background": "light"
     },
     "output_type": "display_data"
    }
   ],
   "source": [
    "#==SOLUTION==\n",
    "plot_bar()"
   ]
  },
  {
   "cell_type": "markdown",
   "id": "da85c8d5",
   "metadata": {},
   "source": [
    "# Conclusion"
   ]
  },
  {
   "cell_type": "code",
   "execution_count": null,
   "id": "00aeae31",
   "metadata": {},
   "outputs": [],
   "source": []
  }
 ],
 "metadata": {
  "kernelspec": {
   "display_name": "Python 3 (ipykernel)",
   "language": "python",
   "name": "python3"
  },
  "language_info": {
   "codemirror_mode": {
    "name": "ipython",
    "version": 3
   },
   "file_extension": ".py",
   "mimetype": "text/x-python",
   "name": "python",
   "nbconvert_exporter": "python",
   "pygments_lexer": "ipython3",
   "version": "3.9.5"
  }
 },
 "nbformat": 4,
 "nbformat_minor": 5
}
